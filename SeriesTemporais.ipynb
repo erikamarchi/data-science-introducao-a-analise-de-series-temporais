{
  "nbformat": 4,
  "nbformat_minor": 0,
  "metadata": {
    "colab": {
      "name": "SeriesTemporais.ipynb",
      "provenance": [],
      "authorship_tag": "ABX9TyMBrxlF8l66oDnnC87w+qmu",
      "include_colab_link": true
    },
    "kernelspec": {
      "name": "python3",
      "display_name": "Python 3"
    },
    "language_info": {
      "name": "python"
    }
  },
  "cells": [
    {
      "cell_type": "markdown",
      "metadata": {
        "id": "view-in-github",
        "colab_type": "text"
      },
      "source": [
        "<a href=\"https://colab.research.google.com/github/erikamarchi/data-science-introducao-a-analise-de-series-temporais/blob/main/SeriesTemporais.ipynb\" target=\"_parent\"><img src=\"https://colab.research.google.com/assets/colab-badge.svg\" alt=\"Open In Colab\"/></a>"
      ]
    },
    {
      "cell_type": "markdown",
      "metadata": {
        "id": "JnQxQSdmVyG0"
      },
      "source": [
        "#Alucar - Analisando as vendas"
      ]
    },
    {
      "cell_type": "code",
      "metadata": {
        "id": "2neVilDyVj9C"
      },
      "source": [
        "import pandas as pd"
      ],
      "execution_count": 6,
      "outputs": []
    },
    {
      "cell_type": "code",
      "metadata": {
        "colab": {
          "base_uri": "https://localhost:8080/",
          "height": 204
        },
        "id": "dSRx-E-UV3kr",
        "outputId": "963f7787-6382-4cfb-efe2-af09a522332e"
      },
      "source": [
        "alucar = pd.read_csv('alucar.csv')\n",
        "alucar.head()"
      ],
      "execution_count": 7,
      "outputs": [
        {
          "output_type": "execute_result",
          "data": {
            "text/html": [
              "<div>\n",
              "<style scoped>\n",
              "    .dataframe tbody tr th:only-of-type {\n",
              "        vertical-align: middle;\n",
              "    }\n",
              "\n",
              "    .dataframe tbody tr th {\n",
              "        vertical-align: top;\n",
              "    }\n",
              "\n",
              "    .dataframe thead th {\n",
              "        text-align: right;\n",
              "    }\n",
              "</style>\n",
              "<table border=\"1\" class=\"dataframe\">\n",
              "  <thead>\n",
              "    <tr style=\"text-align: right;\">\n",
              "      <th></th>\n",
              "      <th>mes</th>\n",
              "      <th>vendas</th>\n",
              "    </tr>\n",
              "  </thead>\n",
              "  <tbody>\n",
              "    <tr>\n",
              "      <th>0</th>\n",
              "      <td>2017-01-31</td>\n",
              "      <td>10</td>\n",
              "    </tr>\n",
              "    <tr>\n",
              "      <th>1</th>\n",
              "      <td>2017-02-28</td>\n",
              "      <td>20</td>\n",
              "    </tr>\n",
              "    <tr>\n",
              "      <th>2</th>\n",
              "      <td>2017-03-31</td>\n",
              "      <td>33</td>\n",
              "    </tr>\n",
              "    <tr>\n",
              "      <th>3</th>\n",
              "      <td>2017-04-30</td>\n",
              "      <td>47</td>\n",
              "    </tr>\n",
              "    <tr>\n",
              "      <th>4</th>\n",
              "      <td>2017-05-31</td>\n",
              "      <td>63</td>\n",
              "    </tr>\n",
              "  </tbody>\n",
              "</table>\n",
              "</div>"
            ],
            "text/plain": [
              "          mes  vendas\n",
              "0  2017-01-31      10\n",
              "1  2017-02-28      20\n",
              "2  2017-03-31      33\n",
              "3  2017-04-30      47\n",
              "4  2017-05-31      63"
            ]
          },
          "metadata": {},
          "execution_count": 7
        }
      ]
    },
    {
      "cell_type": "code",
      "metadata": {
        "colab": {
          "base_uri": "https://localhost:8080/"
        },
        "id": "kMfTfcIVV9KB",
        "outputId": "21e8bece-a3f9-45ab-c0e7-95567b62bdb4"
      },
      "source": [
        "print('Quantidade de linhas e colunas', alucar.shape)"
      ],
      "execution_count": 8,
      "outputs": [
        {
          "output_type": "stream",
          "name": "stdout",
          "text": [
            "Quantidade de linhas e colunas (24, 2)\n"
          ]
        }
      ]
    },
    {
      "cell_type": "code",
      "metadata": {
        "colab": {
          "base_uri": "https://localhost:8080/"
        },
        "id": "1TF6TP4KXID2",
        "outputId": "a8ebcccb-527d-4302-c9fc-0dcd48c9a360"
      },
      "source": [
        "print ('Quantidade de dados nulos', alucar.isna().sum())"
      ],
      "execution_count": 9,
      "outputs": [
        {
          "output_type": "stream",
          "name": "stdout",
          "text": [
            "Quantidade de dados nulos mes       0\n",
            "vendas    0\n",
            "dtype: int64\n"
          ]
        }
      ]
    },
    {
      "cell_type": "code",
      "metadata": {
        "colab": {
          "base_uri": "https://localhost:8080/"
        },
        "id": "-6F3ljGCXLTu",
        "outputId": "3e5b1c8f-a46a-4a55-a5da-7b7105374f5a"
      },
      "source": [
        "print ('Quantidade de dados nulos', alucar.isna().sum().sum())"
      ],
      "execution_count": 10,
      "outputs": [
        {
          "output_type": "stream",
          "name": "stdout",
          "text": [
            "Quantidade de dados nulos 0\n"
          ]
        }
      ]
    },
    {
      "cell_type": "code",
      "metadata": {
        "colab": {
          "base_uri": "https://localhost:8080/"
        },
        "id": "PzMrCWs6XRMg",
        "outputId": "54c481cb-0100-489a-92d3-d2a6290b85ed"
      },
      "source": [
        "alucar.dtypes"
      ],
      "execution_count": 11,
      "outputs": [
        {
          "output_type": "execute_result",
          "data": {
            "text/plain": [
              "mes       object\n",
              "vendas     int64\n",
              "dtype: object"
            ]
          },
          "metadata": {},
          "execution_count": 11
        }
      ]
    },
    {
      "cell_type": "code",
      "metadata": {
        "id": "jyQ_8sp-XXA3"
      },
      "source": [
        "alucar['mes'] = pd.to_datetime(alucar['mes'])"
      ],
      "execution_count": 12,
      "outputs": []
    },
    {
      "cell_type": "code",
      "metadata": {
        "colab": {
          "base_uri": "https://localhost:8080/"
        },
        "id": "9kFMJtbuXYa9",
        "outputId": "07c5465c-9a12-450f-8829-aa0c4fedbb85"
      },
      "source": [
        "alucar.dtypes"
      ],
      "execution_count": 13,
      "outputs": [
        {
          "output_type": "execute_result",
          "data": {
            "text/plain": [
              "mes       datetime64[ns]\n",
              "vendas             int64\n",
              "dtype: object"
            ]
          },
          "metadata": {},
          "execution_count": 13
        }
      ]
    },
    {
      "cell_type": "code",
      "metadata": {
        "id": "f-w2wXJeXeKc"
      },
      "source": [
        "import seaborn as sns\n",
        "from matplotlib import pyplot as plt"
      ],
      "execution_count": 15,
      "outputs": []
    },
    {
      "cell_type": "code",
      "metadata": {
        "colab": {
          "base_uri": "https://localhost:8080/",
          "height": 296
        },
        "id": "KoEnVPELXiKC",
        "outputId": "0be07886-6209-4475-89a1-d8823ce2ce33"
      },
      "source": [
        "sns.lineplot(x='mes', y='vendas', data=alucar)"
      ],
      "execution_count": 16,
      "outputs": [
        {
          "output_type": "execute_result",
          "data": {
            "text/plain": [
              "<matplotlib.axes._subplots.AxesSubplot at 0x7feef87b0090>"
            ]
          },
          "metadata": {},
          "execution_count": 16
        },
        {
          "output_type": "display_data",
          "data": {
            "image/png": "[encoded data removed]",
            "text/plain": [
              "<Figure size 432x288 with 1 Axes>"
            ]
          },
          "metadata": {
            "needs_background": "light"
          }
        }
      ]
    },
    {
      "cell_type": "code",
      "metadata": {
        "colab": {
          "base_uri": "https://localhost:8080/",
          "height": 429
        },
        "id": "tOgxplkhYjxd",
        "outputId": "f7eb369e-6e0e-43b3-eb8a-850f6158172a"
      },
      "source": [
        "sns.set_palette('viridis')\n",
        "sns.set_style('darkgrid')\n",
        "ax = sns.lineplot(x='mes', y='vendas', data=alucar)\n",
        "ax.figure.set_size_inches(12,6)\n",
        "ax.set_title('Vendas Alucar de 2017 e 2018', loc='left', fontsize=18)\n",
        "ax.set_xlabel('Tempo', fontsize=14)\n",
        "ax.set_ylabel('Vendas (R$)', fontsize=14)"
      ],
      "execution_count": 19,
      "outputs": [
        {
          "output_type": "execute_result",
          "data": {
            "text/plain": [
              "Text(0, 0.5, 'Vendas (R$)')"
            ]
          },
          "metadata": {},
          "execution_count": 19
        },
        {
          "output_type": "display_data",
          "data": {
            "image/png": "[encoded data removed]",
            "text/plain": [
              "<Figure size 864x432 with 1 Axes>"
            ]
          },
          "metadata": {}
        }
      ]
    }
  ]
}